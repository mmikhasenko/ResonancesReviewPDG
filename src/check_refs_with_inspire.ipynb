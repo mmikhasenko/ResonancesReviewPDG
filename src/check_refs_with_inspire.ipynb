{
 "cells": [
  {
   "cell_type": "code",
   "execution_count": null,
   "metadata": {},
   "outputs": [],
   "source": [
    "import json\n",
    "import requests\n",
    "from bs4 import BeautifulSoup"
   ]
  },
  {
   "cell_type": "code",
   "execution_count": null,
   "metadata": {},
   "outputs": [],
   "source": [
    "# Define the path to your .bib file\n",
    "file_path = 'resonances.bib'\n",
    "\n",
    "# Initialize an empty list to store the BibTeX keys\n",
    "bibtex_keys = []\n",
    "\n",
    "# Open and read the .bib file\n",
    "try:\n",
    "    with open(file_path, 'r', encoding='utf-8') as file:\n",
    "        for line in file:\n",
    "            # Check if the line starts with '@'\n",
    "            if line.startswith('@'):\n",
    "                # Extract the BibTeX key by splitting the line and removing unwanted characters\n",
    "                key = line.split('{')[1].split(',')[0].strip()\n",
    "                bibtex_keys.append(key)\n",
    "except FileNotFoundError:\n",
    "    print(f\"The file {file_path} does not exist.\")\n",
    "except Exception as e:\n",
    "    print(f\"An error occurred: {str(e)}\")"
   ]
  },
  {
   "cell_type": "code",
   "execution_count": null,
   "metadata": {},
   "outputs": [],
   "source": [
    "# Filter the keys that start with 'resonances:'\n",
    "resonance_keys = [key for key in bibtex_keys if key.startswith(\"resonances:\")]\n",
    "\n",
    "# Display the keys to be excluded from checking with INSPIRE\n",
    "print(\"Keys to be excluded from INSPIRE check:\")\n",
    "print(resonance_keys)\n",
    "\n",
    "# Get the keys that need to be checked with INSPIRE\n",
    "to_check_with_inspire = [key for key in bibtex_keys if not key.startswith(\"resonances:\")]"
   ]
  },
  {
   "cell_type": "code",
   "execution_count": null,
   "metadata": {},
   "outputs": [],
   "source": [
    "def check_inspire(bibtex_key):\n",
    "    # Make a request to the API\n",
    "    response = requests.get(f\"https://inspirehep.net/api/literature?q={bibtex_key}\")\n",
    "    data = json.loads(response.text)  # Parse the JSON response\n",
    "    \n",
    "    # Check if the result is unique\n",
    "    if len(data[\"hits\"][\"hits\"]) == 1:\n",
    "        # Extract the record ID from the response\n",
    "        record_id = data[\"hits\"][\"hits\"][0][\"metadata\"][\"control_number\"]\n",
    "        \n",
    "        # Retrieve the BibTeX note\n",
    "        bibtex_url = f\"https://inspirehep.net/api/literature/{record_id}?format=bibtex\"\n",
    "        bibtex_response = requests.get(bibtex_url)\n",
    "        bibtex_data = BeautifulSoup(bibtex_response.text, 'html.parser').get_text(strip=True)\n",
    "        \n",
    "        # Check if the key has changed\n",
    "        new_key = bibtex_data.split('{', 1)[1].split(',', 1)[0].strip()\n",
    "        if new_key != bibtex_key:\n",
    "            print(f\"{bibtex_key}: Key has changed to {new_key} in the new INSPIRE data.\")\n",
    "        \n",
    "        # Display the BibTeX note\n",
    "        # print(f\"{bibtex_key}: found new bibtex item\")\n",
    "        return bibtex_data  # Return the BibTeX data\n",
    "    else:\n",
    "        print(f\"{bibtex_key}: the result is not unique or no result found, len={len(data['hits']['hits'])}\")\n",
    "        return None  # Return None if the result is not unique or not found"
   ]
  },
  {
   "cell_type": "code",
   "execution_count": null,
   "metadata": {},
   "outputs": [],
   "source": [
    "# Example usage\n",
    "# bibtex_keys_to_check = [\"Gounaris:1968mw\", \"JPAC:2021rxu\", \"Mai:2022eur\"]\n",
    "collected_bibtex_data = []\n",
    "\n",
    "# Check each key with INSPIRE and collect the BibTeX data\n",
    "for key in to_check_with_inspire:\n",
    "    bibtex_item = check_inspire(key)\n",
    "    if bibtex_item is not None:\n",
    "        collected_bibtex_data.append(bibtex_item)"
   ]
  },
  {
   "cell_type": "code",
   "execution_count": null,
   "metadata": {},
   "outputs": [],
   "source": [
    "# Display all collected BibTeX data\n",
    "# print(\"\\nAll collected BibTeX data:\")\n",
    "# print(\"\\n\\n\".join(collected_bibtex_data))"
   ]
  },
  {
   "cell_type": "code",
   "execution_count": null,
   "metadata": {},
   "outputs": [],
   "source": [
    "# Your existing code...\n",
    "\n",
    "# Write the collected BibTeX data to a file\n",
    "output_file_path = 'ref_update_resonances.bib'\n",
    "try:\n",
    "    with open(output_file_path, 'w', encoding='utf-8') as file:\n",
    "        file.write(\"\\n\\n\".join(collected_bibtex_data))\n",
    "    print(f\"\\nThe collected BibTeX data has been written to {output_file_path}\")\n",
    "except Exception as e:\n",
    "    print(f\"\\nAn error occurred while writing to the file: {str(e)}\")"
   ]
  }
 ],
 "metadata": {
  "kernelspec": {
   "display_name": "myenv",
   "language": "python",
   "name": "python3"
  },
  "language_info": {
   "codemirror_mode": {
    "name": "ipython",
    "version": 3
   },
   "file_extension": ".py",
   "mimetype": "text/x-python",
   "name": "python",
   "nbconvert_exporter": "python",
   "pygments_lexer": "ipython3",
   "version": "3.10.8"
  }
 },
 "nbformat": 4,
 "nbformat_minor": 2
}
